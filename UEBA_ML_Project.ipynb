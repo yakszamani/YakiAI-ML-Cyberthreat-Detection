{
  "nbformat": 4,
  "nbformat_minor": 0,
  "metadata": {
    "colab": {
      "provenance": [],
      "collapsed_sections": [
        "ZHZltbOJxwqk"
      ]
    },
    "kernelspec": {
      "name": "python3",
      "display_name": "Python 3"
    },
    "language_info": {
      "name": "python"
    }
  },
  "cells": [
    {
      "cell_type": "markdown",
      "source": [
        "# **User & Entity Behavioral Analytics (UEBA) ML Project**"
      ],
      "metadata": {
        "id": "22V5AjeARS-w"
      }
    },
    {
      "cell_type": "markdown",
      "source": [
        "## **Load Datasets & Libraries**"
      ],
      "metadata": {
        "id": "HmO9LwitRlun"
      }
    },
    {
      "cell_type": "code",
      "execution_count": null,
      "metadata": {
        "id": "jc4smqHxRFN4",
        "collapsed": true
      },
      "outputs": [],
      "source": [
        "import pandas as pd\n",
        "from sklearn.metrics import accuracy_score\n",
        "from sklearn.metrics import precision_score\n",
        "from sklearn.metrics import recall_score\n",
        "from sklearn.neighbors import KNeighborsClassifier\n",
        "from sklearn.metrics import f1_score\n",
        "from sklearn.preprocessing import LabelEncoder, StandardScaler\n",
        "\n",
        "\n",
        "df = pd.read_csv('/cyberguarduserbehavior.csv', encoding='latin-1') # Specify the encoding as 'latin-1'\n",
        "\n"
      ]
    },
    {
      "cell_type": "markdown",
      "source": [
        "## **Data Preparation & Preprocessing**"
      ],
      "metadata": {
        "id": "9PhZEshYa157"
      }
    },
    {
      "cell_type": "code",
      "source": [
        "df['timestamp'] = pd.to_datetime(df['timestamp'])\n",
        "df['timestamp'] = df['timestamp'].astype(int) / 10**9\n",
        "\n",
        "y = df['label']\n",
        "y\n",
        "\n",
        "label_encoder = LabelEncoder()\n",
        "y = label_encoder.fit_transform(y)"
      ],
      "metadata": {
        "id": "dUfwM-_WbQ_b",
        "collapsed": true
      },
      "execution_count": null,
      "outputs": []
    },
    {
      "cell_type": "markdown",
      "source": [
        "#### **Encoding Categorial  Columns**"
      ],
      "metadata": {
        "id": "D9YPw7UMxNr0"
      }
    },
    {
      "cell_type": "markdown",
      "source": [],
      "metadata": {
        "id": "jFSPIaqjbzyy"
      }
    },
    {
      "cell_type": "code",
      "source": [
        "x = df.drop('label', axis=1)\n"
      ],
      "metadata": {
        "id": "krpgFfwPd4SK"
      },
      "execution_count": null,
      "outputs": []
    },
    {
      "cell_type": "code",
      "source": [
        "\n",
        "\n",
        "label_encoder = LabelEncoder()\n",
        "for col in x.select_dtypes(include=['object']).columns:\n",
        "    x[col] = label_encoder.fit_transform(x[col])\n",
        "\n",
        "\n"
      ],
      "metadata": {
        "id": "-fdGAT64T8Vk"
      },
      "execution_count": null,
      "outputs": []
    },
    {
      "cell_type": "markdown",
      "source": [
        "#### **Standardize Numerical Features**"
      ],
      "metadata": {
        "id": "ZHZltbOJxwqk"
      }
    },
    {
      "cell_type": "code",
      "source": [
        "scaler = StandardScaler()\n",
        "x = pd.DataFrame(scaler.fit_transform(x), columns=x.columns)\n",
        "\n"
      ],
      "metadata": {
        "collapsed": true,
        "id": "kn1Ko9dSVtph"
      },
      "execution_count": null,
      "outputs": []
    },
    {
      "cell_type": "markdown",
      "source": [
        "### Data Splitting"
      ],
      "metadata": {
        "id": "5PGVSLkIbz1D"
      }
    },
    {
      "cell_type": "code",
      "source": [
        "from sklearn.model_selection import train_test_split\n",
        "\n",
        "x_train, x_test, y_train, y_test = train_test_split(x,y, test_size=0.2, random_state=100)\n",
        "\n",
        "\n"
      ],
      "metadata": {
        "id": "mccnfnzmb3v8"
      },
      "execution_count": null,
      "outputs": []
    },
    {
      "cell_type": "markdown",
      "source": [
        "## **Model Building**"
      ],
      "metadata": {
        "id": "St3tdmm2echG"
      }
    },
    {
      "cell_type": "markdown",
      "source": [
        "### **Random Forest**"
      ],
      "metadata": {
        "id": "-ZpcDc3cehar"
      }
    },
    {
      "cell_type": "markdown",
      "source": [
        "#### **Training the model**"
      ],
      "metadata": {
        "id": "bKdom4hzzIyy"
      }
    },
    {
      "cell_type": "code",
      "source": [
        "from sklearn.ensemble import RandomForestClassifier\n",
        "rf = RandomForestClassifier(max_depth=2, random_state=42, n_estimators=100)\n",
        "rf.fit(x_train, y_train)\n",
        "\n",
        "y_pred = rf.predict(x_test)\n",
        "\n",
        "accuracy = accuracy_score(y_test, y_pred)\n",
        "precision = precision_score(y_test, y_pred, average='weighted')\n",
        "recall = recall_score(y_test, y_pred, average='weighted')\n",
        "\n",
        "\n",
        "print('Accuracy:', accuracy)\n",
        "print('Precision:', precision)\n",
        "print('Recall:', recall)"
      ],
      "metadata": {
        "id": "j3ExrlPyfCWz",
        "colab": {
          "base_uri": "https://localhost:8080/"
        },
        "outputId": "68b8db1a-275e-4bfc-9f71-4557dcf594f6"
      },
      "execution_count": null,
      "outputs": [
        {
          "output_type": "stream",
          "name": "stdout",
          "text": [
            "Accuracy: 0.8\n",
            "Precision: 0.8\n",
            "Recall: 0.8\n"
          ]
        }
      ]
    },
    {
      "cell_type": "markdown",
      "source": [
        "#### **Apply the model to make a prediction**"
      ],
      "metadata": {
        "id": "qViRU4x6h0hC"
      }
    },
    {
      "cell_type": "code",
      "source": [
        "y_rf_train_pred = rf.predict(x_train)\n",
        "y_rf_test_pred = rf.predict(x_test)\n",
        "\n"
      ],
      "metadata": {
        "collapsed": true,
        "id": "6DpcqLbTiCp9"
      },
      "execution_count": null,
      "outputs": []
    },
    {
      "cell_type": "markdown",
      "source": [
        "#### **Evaluate Model Prediction**"
      ],
      "metadata": {
        "id": "IDKywJ48zbB4"
      }
    },
    {
      "cell_type": "code",
      "source": [
        "from sklearn.metrics import mean_squared_error, r2_score\n",
        "\n",
        "rf_train_mse = mean_squared_error(y_train, y_rf_train_pred)\n",
        "rf_train_r2 = r2_score(y_train, y_rf_train_pred)\n",
        "\n",
        "rf_test_mse = mean_squared_error(y_test, y_rf_test_pred)\n",
        "rf_test_r2 = r2_score(y_test, y_rf_test_pred)"
      ],
      "metadata": {
        "id": "KmfWlXCulYCq"
      },
      "execution_count": null,
      "outputs": []
    },
    {
      "cell_type": "code",
      "source": [
        "rf_results =pd.DataFrame(['Random Forest', rf_train_mse, rf_train_r2, rf_test_mse, rf_test_r2]).transpose()\n",
        "rf_results_columns = ['Model', 'Training MSE', 'Training R-squared', 'Test MSE', 'Test R-squared']\n",
        "rf_results\n"
      ],
      "metadata": {
        "colab": {
          "base_uri": "https://localhost:8080/",
          "height": 89
        },
        "id": "0JdbqT3dlaaH",
        "outputId": "86d4fd44-9c13-445a-8c60-de696da4ab91"
      },
      "execution_count": null,
      "outputs": [
        {
          "output_type": "execute_result",
          "data": {
            "text/plain": [
              "               0       1         2    3         4\n",
              "0  Random Forest  0.2125  0.145192  0.2  0.120879"
            ],
            "text/html": [
              "\n",
              "  <div id=\"df-1cb89ae7-0dec-46ad-97cf-edd27a421bf3\" class=\"colab-df-container\">\n",
              "    <div>\n",
              "<style scoped>\n",
              "    .dataframe tbody tr th:only-of-type {\n",
              "        vertical-align: middle;\n",
              "    }\n",
              "\n",
              "    .dataframe tbody tr th {\n",
              "        vertical-align: top;\n",
              "    }\n",
              "\n",
              "    .dataframe thead th {\n",
              "        text-align: right;\n",
              "    }\n",
              "</style>\n",
              "<table border=\"1\" class=\"dataframe\">\n",
              "  <thead>\n",
              "    <tr style=\"text-align: right;\">\n",
              "      <th></th>\n",
              "      <th>0</th>\n",
              "      <th>1</th>\n",
              "      <th>2</th>\n",
              "      <th>3</th>\n",
              "      <th>4</th>\n",
              "    </tr>\n",
              "  </thead>\n",
              "  <tbody>\n",
              "    <tr>\n",
              "      <th>0</th>\n",
              "      <td>Random Forest</td>\n",
              "      <td>0.2125</td>\n",
              "      <td>0.145192</td>\n",
              "      <td>0.2</td>\n",
              "      <td>0.120879</td>\n",
              "    </tr>\n",
              "  </tbody>\n",
              "</table>\n",
              "</div>\n",
              "    <div class=\"colab-df-buttons\">\n",
              "\n",
              "  <div class=\"colab-df-container\">\n",
              "    <button class=\"colab-df-convert\" onclick=\"convertToInteractive('df-1cb89ae7-0dec-46ad-97cf-edd27a421bf3')\"\n",
              "            title=\"Convert this dataframe to an interactive table.\"\n",
              "            style=\"display:none;\">\n",
              "\n",
              "  <svg xmlns=\"http://www.w3.org/2000/svg\" height=\"24px\" viewBox=\"0 -960 960 960\">\n",
              "    <path d=\"M120-120v-720h720v720H120Zm60-500h600v-160H180v160Zm220 220h160v-160H400v160Zm0 220h160v-160H400v160ZM180-400h160v-160H180v160Zm440 0h160v-160H620v160ZM180-180h160v-160H180v160Zm440 0h160v-160H620v160Z\"/>\n",
              "  </svg>\n",
              "    </button>\n",
              "\n",
              "  <style>\n",
              "    .colab-df-container {\n",
              "      display:flex;\n",
              "      gap: 12px;\n",
              "    }\n",
              "\n",
              "    .colab-df-convert {\n",
              "      background-color: #E8F0FE;\n",
              "      border: none;\n",
              "      border-radius: 50%;\n",
              "      cursor: pointer;\n",
              "      display: none;\n",
              "      fill: #1967D2;\n",
              "      height: 32px;\n",
              "      padding: 0 0 0 0;\n",
              "      width: 32px;\n",
              "    }\n",
              "\n",
              "    .colab-df-convert:hover {\n",
              "      background-color: #E2EBFA;\n",
              "      box-shadow: 0px 1px 2px rgba(60, 64, 67, 0.3), 0px 1px 3px 1px rgba(60, 64, 67, 0.15);\n",
              "      fill: #174EA6;\n",
              "    }\n",
              "\n",
              "    .colab-df-buttons div {\n",
              "      margin-bottom: 4px;\n",
              "    }\n",
              "\n",
              "    [theme=dark] .colab-df-convert {\n",
              "      background-color: #3B4455;\n",
              "      fill: #D2E3FC;\n",
              "    }\n",
              "\n",
              "    [theme=dark] .colab-df-convert:hover {\n",
              "      background-color: #434B5C;\n",
              "      box-shadow: 0px 1px 3px 1px rgba(0, 0, 0, 0.15);\n",
              "      filter: drop-shadow(0px 1px 2px rgba(0, 0, 0, 0.3));\n",
              "      fill: #FFFFFF;\n",
              "    }\n",
              "  </style>\n",
              "\n",
              "    <script>\n",
              "      const buttonEl =\n",
              "        document.querySelector('#df-1cb89ae7-0dec-46ad-97cf-edd27a421bf3 button.colab-df-convert');\n",
              "      buttonEl.style.display =\n",
              "        google.colab.kernel.accessAllowed ? 'block' : 'none';\n",
              "\n",
              "      async function convertToInteractive(key) {\n",
              "        const element = document.querySelector('#df-1cb89ae7-0dec-46ad-97cf-edd27a421bf3');\n",
              "        const dataTable =\n",
              "          await google.colab.kernel.invokeFunction('convertToInteractive',\n",
              "                                                    [key], {});\n",
              "        if (!dataTable) return;\n",
              "\n",
              "        const docLinkHtml = 'Like what you see? Visit the ' +\n",
              "          '<a target=\"_blank\" href=https://colab.research.google.com/notebooks/data_table.ipynb>data table notebook</a>'\n",
              "          + ' to learn more about interactive tables.';\n",
              "        element.innerHTML = '';\n",
              "        dataTable['output_type'] = 'display_data';\n",
              "        await google.colab.output.renderOutput(dataTable, element);\n",
              "        const docLink = document.createElement('div');\n",
              "        docLink.innerHTML = docLinkHtml;\n",
              "        element.appendChild(docLink);\n",
              "      }\n",
              "    </script>\n",
              "  </div>\n",
              "\n",
              "\n",
              "  <div id=\"id_dd208ac8-23b8-48c6-a23a-9f534372cbd5\">\n",
              "    <style>\n",
              "      .colab-df-generate {\n",
              "        background-color: #E8F0FE;\n",
              "        border: none;\n",
              "        border-radius: 50%;\n",
              "        cursor: pointer;\n",
              "        display: none;\n",
              "        fill: #1967D2;\n",
              "        height: 32px;\n",
              "        padding: 0 0 0 0;\n",
              "        width: 32px;\n",
              "      }\n",
              "\n",
              "      .colab-df-generate:hover {\n",
              "        background-color: #E2EBFA;\n",
              "        box-shadow: 0px 1px 2px rgba(60, 64, 67, 0.3), 0px 1px 3px 1px rgba(60, 64, 67, 0.15);\n",
              "        fill: #174EA6;\n",
              "      }\n",
              "\n",
              "      [theme=dark] .colab-df-generate {\n",
              "        background-color: #3B4455;\n",
              "        fill: #D2E3FC;\n",
              "      }\n",
              "\n",
              "      [theme=dark] .colab-df-generate:hover {\n",
              "        background-color: #434B5C;\n",
              "        box-shadow: 0px 1px 3px 1px rgba(0, 0, 0, 0.15);\n",
              "        filter: drop-shadow(0px 1px 2px rgba(0, 0, 0, 0.3));\n",
              "        fill: #FFFFFF;\n",
              "      }\n",
              "    </style>\n",
              "    <button class=\"colab-df-generate\" onclick=\"generateWithVariable('rf_results')\"\n",
              "            title=\"Generate code using this dataframe.\"\n",
              "            style=\"display:none;\">\n",
              "\n",
              "  <svg xmlns=\"http://www.w3.org/2000/svg\" height=\"24px\"viewBox=\"0 0 24 24\"\n",
              "       width=\"24px\">\n",
              "    <path d=\"M7,19H8.4L18.45,9,17,7.55,7,17.6ZM5,21V16.75L18.45,3.32a2,2,0,0,1,2.83,0l1.4,1.43a1.91,1.91,0,0,1,.58,1.4,1.91,1.91,0,0,1-.58,1.4L9.25,21ZM18.45,9,17,7.55Zm-12,3A5.31,5.31,0,0,0,4.9,8.1,5.31,5.31,0,0,0,1,6.5,5.31,5.31,0,0,0,4.9,4.9,5.31,5.31,0,0,0,6.5,1,5.31,5.31,0,0,0,8.1,4.9,5.31,5.31,0,0,0,12,6.5,5.46,5.46,0,0,0,6.5,12Z\"/>\n",
              "  </svg>\n",
              "    </button>\n",
              "    <script>\n",
              "      (() => {\n",
              "      const buttonEl =\n",
              "        document.querySelector('#id_dd208ac8-23b8-48c6-a23a-9f534372cbd5 button.colab-df-generate');\n",
              "      buttonEl.style.display =\n",
              "        google.colab.kernel.accessAllowed ? 'block' : 'none';\n",
              "\n",
              "      buttonEl.onclick = () => {\n",
              "        google.colab.notebook.generateWithVariable('rf_results');\n",
              "      }\n",
              "      })();\n",
              "    </script>\n",
              "  </div>\n",
              "\n",
              "    </div>\n",
              "  </div>\n"
            ],
            "application/vnd.google.colaboratory.intrinsic+json": {
              "type": "dataframe",
              "variable_name": "rf_results",
              "summary": "{\n  \"name\": \"rf_results\",\n  \"rows\": 1,\n  \"fields\": [\n    {\n      \"column\": 0,\n      \"properties\": {\n        \"dtype\": \"string\",\n        \"num_unique_values\": 1,\n        \"samples\": [\n          \"Random Forest\"\n        ],\n        \"semantic_type\": \"\",\n        \"description\": \"\"\n      }\n    },\n    {\n      \"column\": 1,\n      \"properties\": {\n        \"dtype\": \"date\",\n        \"min\": 0.2125,\n        \"max\": 0.2125,\n        \"num_unique_values\": 1,\n        \"samples\": [\n          0.2125\n        ],\n        \"semantic_type\": \"\",\n        \"description\": \"\"\n      }\n    },\n    {\n      \"column\": 2,\n      \"properties\": {\n        \"dtype\": \"date\",\n        \"min\": 0.1451917033312382,\n        \"max\": 0.1451917033312382,\n        \"num_unique_values\": 1,\n        \"samples\": [\n          0.1451917033312382\n        ],\n        \"semantic_type\": \"\",\n        \"description\": \"\"\n      }\n    },\n    {\n      \"column\": 3,\n      \"properties\": {\n        \"dtype\": \"date\",\n        \"min\": 0.2,\n        \"max\": 0.2,\n        \"num_unique_values\": 1,\n        \"samples\": [\n          0.2\n        ],\n        \"semantic_type\": \"\",\n        \"description\": \"\"\n      }\n    },\n    {\n      \"column\": 4,\n      \"properties\": {\n        \"dtype\": \"date\",\n        \"min\": 0.12087912087912067,\n        \"max\": 0.12087912087912067,\n        \"num_unique_values\": 1,\n        \"samples\": [\n          0.12087912087912067\n        ],\n        \"semantic_type\": \"\",\n        \"description\": \"\"\n      }\n    }\n  ]\n}"
            }
          },
          "metadata": {},
          "execution_count": 114
        }
      ]
    },
    {
      "cell_type": "markdown",
      "source": [
        "### **Decision Tree**"
      ],
      "metadata": {
        "id": "DHZIOpAryUg_"
      }
    },
    {
      "cell_type": "markdown",
      "source": [
        "#### **Training the model**"
      ],
      "metadata": {
        "id": "CHXqLkd20wLk"
      }
    },
    {
      "cell_type": "code",
      "source": [
        "from sklearn.tree import DecisionTreeClassifier # Import DecisionTreeClassifier from sklearn.tree\n",
        "\n",
        "dt = DecisionTreeClassifier(max_depth=2, random_state=100)\n",
        "dt.fit(x_train, y_train)\n",
        "y_pred = dt.predict(x_test)\n",
        "\n",
        "accuracy = accuracy_score(y_test, y_pred)\n",
        "precision = precision_score(y_test, y_pred, average='weighted')\n",
        "recall = recall_score(y_test, y_pred, average='weighted')\n",
        "\n",
        "\n",
        "print('Accuracy:', accuracy)\n",
        "print('Precision:', precision)\n",
        "print('Recall:', recall)\n"
      ],
      "metadata": {
        "colab": {
          "base_uri": "https://localhost:8080/"
        },
        "id": "vIxx4xsajVw-",
        "outputId": "4a3971b7-ea60-4c9c-cd26-a809ff4cec2e"
      },
      "execution_count": null,
      "outputs": [
        {
          "output_type": "stream",
          "name": "stdout",
          "text": [
            "Accuracy: 0.7\n",
            "Precision: 0.6866666666666668\n",
            "Recall: 0.7\n"
          ]
        }
      ]
    },
    {
      "cell_type": "markdown",
      "source": [
        "#### **Applying the model to make a prediction**"
      ],
      "metadata": {
        "id": "vfMb3t6Iy5rS"
      }
    },
    {
      "cell_type": "code",
      "source": [
        "y_dt_train_pred = dt.predict(x_train)\n",
        "y_dt_test_pred = dt.predict(x_test)"
      ],
      "metadata": {
        "id": "gj4-vxeEnb46"
      },
      "execution_count": null,
      "outputs": []
    },
    {
      "cell_type": "markdown",
      "source": [
        "#### **Evaluate Model Performance**"
      ],
      "metadata": {
        "id": "_3psGTyWlSJf"
      }
    },
    {
      "cell_type": "code",
      "source": [
        "from sklearn.metrics import mean_squared_error, r2_score\n",
        "\n",
        "dt_train_mse = mean_squared_error(y_train, y_dt_train_pred)\n",
        "dt_train_r2 = r2_score(y_train, y_dt_train_pred)\n",
        "\n",
        "dt_test_mse = mean_squared_error(y_test, y_dt_test_pred)\n",
        "dt_test_r2 = r2_score(y_test, y_dt_test_pred)"
      ],
      "metadata": {
        "id": "mG7wTxtDm7iu"
      },
      "execution_count": null,
      "outputs": []
    },
    {
      "cell_type": "code",
      "source": [
        "dt_results =pd.DataFrame(['Decision Tree', dt_train_mse, dt_train_r2, dt_test_mse, dt_test_r2]).transpose()\n",
        "dt_results_columns = ['Model', 'Training MSE', 'Training R-squared', 'Test MSE', 'Test R-squared']\n",
        "dt_results"
      ],
      "metadata": {
        "colab": {
          "base_uri": "https://localhost:8080/",
          "height": 89
        },
        "id": "yH4p_5nIm7Wh",
        "outputId": "50d12f2e-aa39-4da8-fbdd-1bd4e93040ec"
      },
      "execution_count": null,
      "outputs": [
        {
          "output_type": "execute_result",
          "data": {
            "text/plain": [
              "               0       1         2    3         4\n",
              "0  Decision Tree  0.2875 -0.156505  0.3 -0.318681"
            ],
            "text/html": [
              "\n",
              "  <div id=\"df-c67f13a1-f19d-480c-9049-50b4fbdcfa08\" class=\"colab-df-container\">\n",
              "    <div>\n",
              "<style scoped>\n",
              "    .dataframe tbody tr th:only-of-type {\n",
              "        vertical-align: middle;\n",
              "    }\n",
              "\n",
              "    .dataframe tbody tr th {\n",
              "        vertical-align: top;\n",
              "    }\n",
              "\n",
              "    .dataframe thead th {\n",
              "        text-align: right;\n",
              "    }\n",
              "</style>\n",
              "<table border=\"1\" class=\"dataframe\">\n",
              "  <thead>\n",
              "    <tr style=\"text-align: right;\">\n",
              "      <th></th>\n",
              "      <th>0</th>\n",
              "      <th>1</th>\n",
              "      <th>2</th>\n",
              "      <th>3</th>\n",
              "      <th>4</th>\n",
              "    </tr>\n",
              "  </thead>\n",
              "  <tbody>\n",
              "    <tr>\n",
              "      <th>0</th>\n",
              "      <td>Decision Tree</td>\n",
              "      <td>0.2875</td>\n",
              "      <td>-0.156505</td>\n",
              "      <td>0.3</td>\n",
              "      <td>-0.318681</td>\n",
              "    </tr>\n",
              "  </tbody>\n",
              "</table>\n",
              "</div>\n",
              "    <div class=\"colab-df-buttons\">\n",
              "\n",
              "  <div class=\"colab-df-container\">\n",
              "    <button class=\"colab-df-convert\" onclick=\"convertToInteractive('df-c67f13a1-f19d-480c-9049-50b4fbdcfa08')\"\n",
              "            title=\"Convert this dataframe to an interactive table.\"\n",
              "            style=\"display:none;\">\n",
              "\n",
              "  <svg xmlns=\"http://www.w3.org/2000/svg\" height=\"24px\" viewBox=\"0 -960 960 960\">\n",
              "    <path d=\"M120-120v-720h720v720H120Zm60-500h600v-160H180v160Zm220 220h160v-160H400v160Zm0 220h160v-160H400v160ZM180-400h160v-160H180v160Zm440 0h160v-160H620v160ZM180-180h160v-160H180v160Zm440 0h160v-160H620v160Z\"/>\n",
              "  </svg>\n",
              "    </button>\n",
              "\n",
              "  <style>\n",
              "    .colab-df-container {\n",
              "      display:flex;\n",
              "      gap: 12px;\n",
              "    }\n",
              "\n",
              "    .colab-df-convert {\n",
              "      background-color: #E8F0FE;\n",
              "      border: none;\n",
              "      border-radius: 50%;\n",
              "      cursor: pointer;\n",
              "      display: none;\n",
              "      fill: #1967D2;\n",
              "      height: 32px;\n",
              "      padding: 0 0 0 0;\n",
              "      width: 32px;\n",
              "    }\n",
              "\n",
              "    .colab-df-convert:hover {\n",
              "      background-color: #E2EBFA;\n",
              "      box-shadow: 0px 1px 2px rgba(60, 64, 67, 0.3), 0px 1px 3px 1px rgba(60, 64, 67, 0.15);\n",
              "      fill: #174EA6;\n",
              "    }\n",
              "\n",
              "    .colab-df-buttons div {\n",
              "      margin-bottom: 4px;\n",
              "    }\n",
              "\n",
              "    [theme=dark] .colab-df-convert {\n",
              "      background-color: #3B4455;\n",
              "      fill: #D2E3FC;\n",
              "    }\n",
              "\n",
              "    [theme=dark] .colab-df-convert:hover {\n",
              "      background-color: #434B5C;\n",
              "      box-shadow: 0px 1px 3px 1px rgba(0, 0, 0, 0.15);\n",
              "      filter: drop-shadow(0px 1px 2px rgba(0, 0, 0, 0.3));\n",
              "      fill: #FFFFFF;\n",
              "    }\n",
              "  </style>\n",
              "\n",
              "    <script>\n",
              "      const buttonEl =\n",
              "        document.querySelector('#df-c67f13a1-f19d-480c-9049-50b4fbdcfa08 button.colab-df-convert');\n",
              "      buttonEl.style.display =\n",
              "        google.colab.kernel.accessAllowed ? 'block' : 'none';\n",
              "\n",
              "      async function convertToInteractive(key) {\n",
              "        const element = document.querySelector('#df-c67f13a1-f19d-480c-9049-50b4fbdcfa08');\n",
              "        const dataTable =\n",
              "          await google.colab.kernel.invokeFunction('convertToInteractive',\n",
              "                                                    [key], {});\n",
              "        if (!dataTable) return;\n",
              "\n",
              "        const docLinkHtml = 'Like what you see? Visit the ' +\n",
              "          '<a target=\"_blank\" href=https://colab.research.google.com/notebooks/data_table.ipynb>data table notebook</a>'\n",
              "          + ' to learn more about interactive tables.';\n",
              "        element.innerHTML = '';\n",
              "        dataTable['output_type'] = 'display_data';\n",
              "        await google.colab.output.renderOutput(dataTable, element);\n",
              "        const docLink = document.createElement('div');\n",
              "        docLink.innerHTML = docLinkHtml;\n",
              "        element.appendChild(docLink);\n",
              "      }\n",
              "    </script>\n",
              "  </div>\n",
              "\n",
              "\n",
              "  <div id=\"id_6caa24d3-e375-4a08-9be2-3886e19f9043\">\n",
              "    <style>\n",
              "      .colab-df-generate {\n",
              "        background-color: #E8F0FE;\n",
              "        border: none;\n",
              "        border-radius: 50%;\n",
              "        cursor: pointer;\n",
              "        display: none;\n",
              "        fill: #1967D2;\n",
              "        height: 32px;\n",
              "        padding: 0 0 0 0;\n",
              "        width: 32px;\n",
              "      }\n",
              "\n",
              "      .colab-df-generate:hover {\n",
              "        background-color: #E2EBFA;\n",
              "        box-shadow: 0px 1px 2px rgba(60, 64, 67, 0.3), 0px 1px 3px 1px rgba(60, 64, 67, 0.15);\n",
              "        fill: #174EA6;\n",
              "      }\n",
              "\n",
              "      [theme=dark] .colab-df-generate {\n",
              "        background-color: #3B4455;\n",
              "        fill: #D2E3FC;\n",
              "      }\n",
              "\n",
              "      [theme=dark] .colab-df-generate:hover {\n",
              "        background-color: #434B5C;\n",
              "        box-shadow: 0px 1px 3px 1px rgba(0, 0, 0, 0.15);\n",
              "        filter: drop-shadow(0px 1px 2px rgba(0, 0, 0, 0.3));\n",
              "        fill: #FFFFFF;\n",
              "      }\n",
              "    </style>\n",
              "    <button class=\"colab-df-generate\" onclick=\"generateWithVariable('dt_results')\"\n",
              "            title=\"Generate code using this dataframe.\"\n",
              "            style=\"display:none;\">\n",
              "\n",
              "  <svg xmlns=\"http://www.w3.org/2000/svg\" height=\"24px\"viewBox=\"0 0 24 24\"\n",
              "       width=\"24px\">\n",
              "    <path d=\"M7,19H8.4L18.45,9,17,7.55,7,17.6ZM5,21V16.75L18.45,3.32a2,2,0,0,1,2.83,0l1.4,1.43a1.91,1.91,0,0,1,.58,1.4,1.91,1.91,0,0,1-.58,1.4L9.25,21ZM18.45,9,17,7.55Zm-12,3A5.31,5.31,0,0,0,4.9,8.1,5.31,5.31,0,0,0,1,6.5,5.31,5.31,0,0,0,4.9,4.9,5.31,5.31,0,0,0,6.5,1,5.31,5.31,0,0,0,8.1,4.9,5.31,5.31,0,0,0,12,6.5,5.46,5.46,0,0,0,6.5,12Z\"/>\n",
              "  </svg>\n",
              "    </button>\n",
              "    <script>\n",
              "      (() => {\n",
              "      const buttonEl =\n",
              "        document.querySelector('#id_6caa24d3-e375-4a08-9be2-3886e19f9043 button.colab-df-generate');\n",
              "      buttonEl.style.display =\n",
              "        google.colab.kernel.accessAllowed ? 'block' : 'none';\n",
              "\n",
              "      buttonEl.onclick = () => {\n",
              "        google.colab.notebook.generateWithVariable('dt_results');\n",
              "      }\n",
              "      })();\n",
              "    </script>\n",
              "  </div>\n",
              "\n",
              "    </div>\n",
              "  </div>\n"
            ],
            "application/vnd.google.colaboratory.intrinsic+json": {
              "type": "dataframe",
              "variable_name": "dt_results",
              "summary": "{\n  \"name\": \"dt_results\",\n  \"rows\": 1,\n  \"fields\": [\n    {\n      \"column\": 0,\n      \"properties\": {\n        \"dtype\": \"string\",\n        \"num_unique_values\": 1,\n        \"samples\": [\n          \"Decision Tree\"\n        ],\n        \"semantic_type\": \"\",\n        \"description\": \"\"\n      }\n    },\n    {\n      \"column\": 1,\n      \"properties\": {\n        \"dtype\": \"date\",\n        \"min\": 0.2875,\n        \"max\": 0.2875,\n        \"num_unique_values\": 1,\n        \"samples\": [\n          0.2875\n        ],\n        \"semantic_type\": \"\",\n        \"description\": \"\"\n      }\n    },\n    {\n      \"column\": 2,\n      \"properties\": {\n        \"dtype\": \"date\",\n        \"min\": -0.15650534255185433,\n        \"max\": -0.15650534255185433,\n        \"num_unique_values\": 1,\n        \"samples\": [\n          -0.15650534255185433\n        ],\n        \"semantic_type\": \"\",\n        \"description\": \"\"\n      }\n    },\n    {\n      \"column\": 3,\n      \"properties\": {\n        \"dtype\": \"date\",\n        \"min\": 0.3,\n        \"max\": 0.3,\n        \"num_unique_values\": 1,\n        \"samples\": [\n          0.3\n        ],\n        \"semantic_type\": \"\",\n        \"description\": \"\"\n      }\n    },\n    {\n      \"column\": 4,\n      \"properties\": {\n        \"dtype\": \"date\",\n        \"min\": -0.3186813186813189,\n        \"max\": -0.3186813186813189,\n        \"num_unique_values\": 1,\n        \"samples\": [\n          -0.3186813186813189\n        ],\n        \"semantic_type\": \"\",\n        \"description\": \"\"\n      }\n    }\n  ]\n}"
            }
          },
          "metadata": {},
          "execution_count": 118
        }
      ]
    },
    {
      "cell_type": "markdown",
      "source": [
        "### **Cat Boost**"
      ],
      "metadata": {
        "id": "-N9ERic7am1o"
      }
    },
    {
      "cell_type": "markdown",
      "source": [
        "#### **Training the model**"
      ],
      "metadata": {
        "id": "b-qGNoEFam1o"
      }
    },
    {
      "cell_type": "code",
      "source": [
        "!pip install catboost\n"
      ],
      "metadata": {
        "colab": {
          "base_uri": "https://localhost:8080/"
        },
        "id": "LASrSF8Lc-js",
        "outputId": "a8410303-70a3-48c7-b760-58cdef3f3c6d",
        "collapsed": true
      },
      "execution_count": null,
      "outputs": [
        {
          "output_type": "stream",
          "name": "stdout",
          "text": [
            "Requirement already satisfied: catboost in /usr/local/lib/python3.11/dist-packages (1.2.7)\n",
            "Requirement already satisfied: graphviz in /usr/local/lib/python3.11/dist-packages (from catboost) (0.20.3)\n",
            "Requirement already satisfied: matplotlib in /usr/local/lib/python3.11/dist-packages (from catboost) (3.10.0)\n",
            "Requirement already satisfied: numpy<2.0,>=1.16.0 in /usr/local/lib/python3.11/dist-packages (from catboost) (1.26.4)\n",
            "Requirement already satisfied: pandas>=0.24 in /usr/local/lib/python3.11/dist-packages (from catboost) (2.2.2)\n",
            "Requirement already satisfied: scipy in /usr/local/lib/python3.11/dist-packages (from catboost) (1.13.1)\n",
            "Requirement already satisfied: plotly in /usr/local/lib/python3.11/dist-packages (from catboost) (5.24.1)\n",
            "Requirement already satisfied: six in /usr/local/lib/python3.11/dist-packages (from catboost) (1.17.0)\n",
            "Requirement already satisfied: python-dateutil>=2.8.2 in /usr/local/lib/python3.11/dist-packages (from pandas>=0.24->catboost) (2.8.2)\n",
            "Requirement already satisfied: pytz>=2020.1 in /usr/local/lib/python3.11/dist-packages (from pandas>=0.24->catboost) (2024.2)\n",
            "Requirement already satisfied: tzdata>=2022.7 in /usr/local/lib/python3.11/dist-packages (from pandas>=0.24->catboost) (2025.1)\n",
            "Requirement already satisfied: contourpy>=1.0.1 in /usr/local/lib/python3.11/dist-packages (from matplotlib->catboost) (1.3.1)\n",
            "Requirement already satisfied: cycler>=0.10 in /usr/local/lib/python3.11/dist-packages (from matplotlib->catboost) (0.12.1)\n",
            "Requirement already satisfied: fonttools>=4.22.0 in /usr/local/lib/python3.11/dist-packages (from matplotlib->catboost) (4.55.6)\n",
            "Requirement already satisfied: kiwisolver>=1.3.1 in /usr/local/lib/python3.11/dist-packages (from matplotlib->catboost) (1.4.8)\n",
            "Requirement already satisfied: packaging>=20.0 in /usr/local/lib/python3.11/dist-packages (from matplotlib->catboost) (24.2)\n",
            "Requirement already satisfied: pillow>=8 in /usr/local/lib/python3.11/dist-packages (from matplotlib->catboost) (11.1.0)\n",
            "Requirement already satisfied: pyparsing>=2.3.1 in /usr/local/lib/python3.11/dist-packages (from matplotlib->catboost) (3.2.1)\n",
            "Requirement already satisfied: tenacity>=6.2.0 in /usr/local/lib/python3.11/dist-packages (from plotly->catboost) (9.0.0)\n"
          ]
        }
      ]
    },
    {
      "cell_type": "code",
      "source": [
        "from catboost import CatBoostClassifier\n",
        "\n",
        "# Get the list of column names from your training data\n",
        "cat_features = x_train.select_dtypes(include=['object', 'category']).columns.tolist()\n",
        "\n",
        "\n",
        "# Initialize and train the model. If cat_features is None, it won't be passed to CatBoostClassifier.\n",
        "cb = CatBoostClassifier(n_estimators=100, random_state=100, cat_features=cat_features)\n",
        "cb.fit(x_train, y_train)\n",
        "y_pred = cb.predict(x_test)\n",
        "\n",
        "accuracy = accuracy_score(y_test, y_pred)\n",
        "precision = precision_score(y_test, y_pred, average='weighted')\n",
        "recall = recall_score(y_test, y_pred, average='weighted')\n",
        "\n",
        "\n",
        "print('Accuracy:', accuracy)\n",
        "print('Precision:', precision)\n",
        "print('Recall:', recall)"
      ],
      "metadata": {
        "id": "Qq-2LJt9am1o",
        "colab": {
          "base_uri": "https://localhost:8080/"
        },
        "outputId": "07077eea-f1d8-40ae-c38d-610fe6316bb4"
      },
      "execution_count": null,
      "outputs": [
        {
          "output_type": "stream",
          "name": "stdout",
          "text": [
            "Learning rate set to 0.028944\n",
            "0:\tlearn: 0.6900342\ttotal: 1.84ms\tremaining: 182ms\n",
            "1:\tlearn: 0.6860024\ttotal: 2.46ms\tremaining: 120ms\n",
            "2:\tlearn: 0.6844323\ttotal: 2.99ms\tremaining: 96.7ms\n",
            "3:\tlearn: 0.6822653\ttotal: 3.6ms\tremaining: 86.5ms\n",
            "4:\tlearn: 0.6812851\ttotal: 3.77ms\tremaining: 71.7ms\n",
            "5:\tlearn: 0.6778410\ttotal: 4.43ms\tremaining: 69.5ms\n",
            "6:\tlearn: 0.6760808\ttotal: 11ms\tremaining: 147ms\n",
            "7:\tlearn: 0.6728094\ttotal: 11.6ms\tremaining: 133ms\n",
            "8:\tlearn: 0.6690104\ttotal: 12.2ms\tremaining: 123ms\n",
            "9:\tlearn: 0.6659779\ttotal: 12.8ms\tremaining: 115ms\n",
            "10:\tlearn: 0.6635616\ttotal: 13.4ms\tremaining: 108ms\n",
            "11:\tlearn: 0.6626939\ttotal: 13.6ms\tremaining: 99.9ms\n",
            "12:\tlearn: 0.6598037\ttotal: 14ms\tremaining: 94ms\n",
            "13:\tlearn: 0.6563611\ttotal: 14.9ms\tremaining: 91.8ms\n",
            "14:\tlearn: 0.6529801\ttotal: 16.2ms\tremaining: 91.7ms\n",
            "15:\tlearn: 0.6493534\ttotal: 17.3ms\tremaining: 91ms\n",
            "16:\tlearn: 0.6463168\ttotal: 18.4ms\tremaining: 89.9ms\n",
            "17:\tlearn: 0.6442678\ttotal: 19.7ms\tremaining: 89.8ms\n",
            "18:\tlearn: 0.6418523\ttotal: 21.1ms\tremaining: 90ms\n",
            "19:\tlearn: 0.6391009\ttotal: 22.5ms\tremaining: 90ms\n",
            "20:\tlearn: 0.6374856\ttotal: 25.8ms\tremaining: 97ms\n",
            "21:\tlearn: 0.6347133\ttotal: 26.4ms\tremaining: 93.6ms\n",
            "22:\tlearn: 0.6326433\ttotal: 27.5ms\tremaining: 92.2ms\n",
            "23:\tlearn: 0.6313634\ttotal: 28.6ms\tremaining: 90.6ms\n",
            "24:\tlearn: 0.6292267\ttotal: 29.8ms\tremaining: 89.5ms\n",
            "25:\tlearn: 0.6273166\ttotal: 30.7ms\tremaining: 87.5ms\n",
            "26:\tlearn: 0.6239360\ttotal: 31.8ms\tremaining: 86ms\n",
            "27:\tlearn: 0.6224523\ttotal: 33ms\tremaining: 84.9ms\n",
            "28:\tlearn: 0.6193543\ttotal: 34.2ms\tremaining: 83.7ms\n",
            "29:\tlearn: 0.6161549\ttotal: 35.4ms\tremaining: 82.7ms\n",
            "30:\tlearn: 0.6147514\ttotal: 36.7ms\tremaining: 81.7ms\n",
            "31:\tlearn: 0.6123713\ttotal: 38.1ms\tremaining: 81ms\n",
            "32:\tlearn: 0.6097928\ttotal: 39.7ms\tremaining: 80.6ms\n",
            "33:\tlearn: 0.6083303\ttotal: 41.3ms\tremaining: 80.1ms\n",
            "34:\tlearn: 0.6054048\ttotal: 42.6ms\tremaining: 79.2ms\n",
            "35:\tlearn: 0.6037579\ttotal: 43.8ms\tremaining: 77.9ms\n",
            "36:\tlearn: 0.6014324\ttotal: 44.9ms\tremaining: 76.5ms\n",
            "37:\tlearn: 0.5984977\ttotal: 49.3ms\tremaining: 80.4ms\n",
            "38:\tlearn: 0.5963219\ttotal: 50.1ms\tremaining: 78.4ms\n",
            "39:\tlearn: 0.5942910\ttotal: 51.4ms\tremaining: 77.1ms\n",
            "40:\tlearn: 0.5921602\ttotal: 52.6ms\tremaining: 75.7ms\n",
            "41:\tlearn: 0.5896055\ttotal: 54ms\tremaining: 74.6ms\n",
            "42:\tlearn: 0.5881746\ttotal: 55.3ms\tremaining: 73.4ms\n",
            "43:\tlearn: 0.5862235\ttotal: 56.5ms\tremaining: 71.9ms\n",
            "44:\tlearn: 0.5843088\ttotal: 57.6ms\tremaining: 70.4ms\n",
            "45:\tlearn: 0.5814249\ttotal: 58.9ms\tremaining: 69.1ms\n",
            "46:\tlearn: 0.5797550\ttotal: 60ms\tremaining: 67.7ms\n",
            "47:\tlearn: 0.5778529\ttotal: 61.6ms\tremaining: 66.7ms\n",
            "48:\tlearn: 0.5764692\ttotal: 62.8ms\tremaining: 65.4ms\n",
            "49:\tlearn: 0.5750117\ttotal: 63.9ms\tremaining: 63.9ms\n",
            "50:\tlearn: 0.5724370\ttotal: 67.7ms\tremaining: 65.1ms\n",
            "51:\tlearn: 0.5704037\ttotal: 69ms\tremaining: 63.7ms\n",
            "52:\tlearn: 0.5690479\ttotal: 70.5ms\tremaining: 62.5ms\n",
            "53:\tlearn: 0.5672050\ttotal: 71.9ms\tremaining: 61.3ms\n",
            "54:\tlearn: 0.5651598\ttotal: 73.3ms\tremaining: 59.9ms\n",
            "55:\tlearn: 0.5621958\ttotal: 74.8ms\tremaining: 58.7ms\n",
            "56:\tlearn: 0.5584466\ttotal: 76ms\tremaining: 57.4ms\n",
            "57:\tlearn: 0.5576063\ttotal: 77.3ms\tremaining: 56ms\n",
            "58:\tlearn: 0.5556208\ttotal: 80.3ms\tremaining: 55.8ms\n",
            "59:\tlearn: 0.5541071\ttotal: 93.1ms\tremaining: 62.1ms\n",
            "60:\tlearn: 0.5514923\ttotal: 97.7ms\tremaining: 62.5ms\n",
            "61:\tlearn: 0.5489502\ttotal: 99.7ms\tremaining: 61.1ms\n",
            "62:\tlearn: 0.5472702\ttotal: 104ms\tremaining: 61.3ms\n",
            "63:\tlearn: 0.5462831\ttotal: 106ms\tremaining: 59.5ms\n",
            "64:\tlearn: 0.5451210\ttotal: 107ms\tremaining: 57.7ms\n",
            "65:\tlearn: 0.5432748\ttotal: 108ms\tremaining: 55.9ms\n",
            "66:\tlearn: 0.5412467\ttotal: 110ms\tremaining: 54.1ms\n",
            "67:\tlearn: 0.5396913\ttotal: 111ms\tremaining: 52.3ms\n",
            "68:\tlearn: 0.5373416\ttotal: 112ms\tremaining: 50.5ms\n",
            "69:\tlearn: 0.5360610\ttotal: 114ms\tremaining: 48.7ms\n",
            "70:\tlearn: 0.5344547\ttotal: 115ms\tremaining: 46.9ms\n",
            "71:\tlearn: 0.5321695\ttotal: 116ms\tremaining: 45.1ms\n",
            "72:\tlearn: 0.5296649\ttotal: 117ms\tremaining: 43.3ms\n",
            "73:\tlearn: 0.5280634\ttotal: 118ms\tremaining: 41.6ms\n",
            "74:\tlearn: 0.5260746\ttotal: 120ms\tremaining: 39.8ms\n",
            "75:\tlearn: 0.5241761\ttotal: 121ms\tremaining: 38.1ms\n",
            "76:\tlearn: 0.5223560\ttotal: 122ms\tremaining: 36.4ms\n",
            "77:\tlearn: 0.5206057\ttotal: 125ms\tremaining: 35.2ms\n",
            "78:\tlearn: 0.5181209\ttotal: 125ms\tremaining: 33.3ms\n",
            "79:\tlearn: 0.5168544\ttotal: 127ms\tremaining: 31.7ms\n",
            "80:\tlearn: 0.5162210\ttotal: 128ms\tremaining: 29.9ms\n",
            "81:\tlearn: 0.5142360\ttotal: 129ms\tremaining: 28.2ms\n",
            "82:\tlearn: 0.5131312\ttotal: 130ms\tremaining: 26.6ms\n",
            "83:\tlearn: 0.5116710\ttotal: 131ms\tremaining: 25ms\n",
            "84:\tlearn: 0.5093414\ttotal: 132ms\tremaining: 23.3ms\n",
            "85:\tlearn: 0.5080076\ttotal: 133ms\tremaining: 21.7ms\n",
            "86:\tlearn: 0.5075379\ttotal: 135ms\tremaining: 20.1ms\n",
            "87:\tlearn: 0.5059530\ttotal: 136ms\tremaining: 18.5ms\n",
            "88:\tlearn: 0.5040713\ttotal: 137ms\tremaining: 16.9ms\n",
            "89:\tlearn: 0.5035765\ttotal: 138ms\tremaining: 15.3ms\n",
            "90:\tlearn: 0.5025717\ttotal: 139ms\tremaining: 13.8ms\n",
            "91:\tlearn: 0.5010801\ttotal: 140ms\tremaining: 12.2ms\n",
            "92:\tlearn: 0.4992348\ttotal: 141ms\tremaining: 10.6ms\n",
            "93:\tlearn: 0.4981398\ttotal: 143ms\tremaining: 9.1ms\n",
            "94:\tlearn: 0.4960425\ttotal: 144ms\tremaining: 7.57ms\n",
            "95:\tlearn: 0.4945041\ttotal: 145ms\tremaining: 6.06ms\n",
            "96:\tlearn: 0.4934814\ttotal: 148ms\tremaining: 4.58ms\n",
            "97:\tlearn: 0.4916464\ttotal: 149ms\tremaining: 3.04ms\n",
            "98:\tlearn: 0.4905384\ttotal: 150ms\tremaining: 1.52ms\n",
            "99:\tlearn: 0.4896841\ttotal: 151ms\tremaining: 0us\n",
            "Accuracy: 0.75\n",
            "Precision: 0.7604166666666667\n",
            "Recall: 0.75\n"
          ]
        }
      ]
    },
    {
      "cell_type": "markdown",
      "source": [
        "#### **Apply the model to make a prediction**"
      ],
      "metadata": {
        "id": "7wtLRrEPam1o"
      }
    },
    {
      "cell_type": "code",
      "source": [
        "y_cb_train_pred = cb.predict(x_train)\n",
        "y_cb_test_pred = cb.predict(x_test)\n",
        "\n"
      ],
      "metadata": {
        "collapsed": true,
        "id": "7y_pV0T8am1o"
      },
      "execution_count": null,
      "outputs": []
    },
    {
      "cell_type": "markdown",
      "source": [
        "#### **Evaluate Model Prediction**"
      ],
      "metadata": {
        "id": "LZ9yaNq8am1p"
      }
    },
    {
      "cell_type": "markdown",
      "source": [],
      "metadata": {
        "id": "pBcLgFzbi7_q"
      }
    },
    {
      "cell_type": "code",
      "source": [
        "from sklearn.metrics import mean_squared_error, r2_score\n",
        "\n",
        "cb_train_mse = mean_squared_error(y_train, y_cb_train_pred)\n",
        "cb_train_r2 = r2_score(y_train, y_cb_train_pred)\n",
        "\n",
        "cb_test_mse = mean_squared_error(y_test, y_cb_test_pred)\n",
        "cb_test_r2 = r2_score(y_test, y_cb_test_pred)"
      ],
      "metadata": {
        "id": "IdGHKHaSam1p"
      },
      "execution_count": null,
      "outputs": []
    },
    {
      "cell_type": "code",
      "source": [
        "cb_results =pd.DataFrame(['Cat Boost', cb_train_mse, cb_train_r2, cb_test_mse, cb_test_r2]).transpose()\n",
        "cb_results_columns = ['Model', 'Training MSE', 'Training R-squared', 'Test MSE', 'Test R-squared']\n",
        "cb_results\n"
      ],
      "metadata": {
        "colab": {
          "base_uri": "https://localhost:8080/",
          "height": 89
        },
        "outputId": "2c338d15-c798-426d-ab47-e6eadffa77e7",
        "id": "hru76U_Lam1p"
      },
      "execution_count": null,
      "outputs": [
        {
          "output_type": "execute_result",
          "data": {
            "text/plain": [
              "           0       1        2     3         4\n",
              "0  Cat Boost  0.0875  0.64802  0.25 -0.098901"
            ],
            "text/html": [
              "\n",
              "  <div id=\"df-8eb3717f-f166-4786-af7d-3aa8aeb016f0\" class=\"colab-df-container\">\n",
              "    <div>\n",
              "<style scoped>\n",
              "    .dataframe tbody tr th:only-of-type {\n",
              "        vertical-align: middle;\n",
              "    }\n",
              "\n",
              "    .dataframe tbody tr th {\n",
              "        vertical-align: top;\n",
              "    }\n",
              "\n",
              "    .dataframe thead th {\n",
              "        text-align: right;\n",
              "    }\n",
              "</style>\n",
              "<table border=\"1\" class=\"dataframe\">\n",
              "  <thead>\n",
              "    <tr style=\"text-align: right;\">\n",
              "      <th></th>\n",
              "      <th>0</th>\n",
              "      <th>1</th>\n",
              "      <th>2</th>\n",
              "      <th>3</th>\n",
              "      <th>4</th>\n",
              "    </tr>\n",
              "  </thead>\n",
              "  <tbody>\n",
              "    <tr>\n",
              "      <th>0</th>\n",
              "      <td>Cat Boost</td>\n",
              "      <td>0.0875</td>\n",
              "      <td>0.64802</td>\n",
              "      <td>0.25</td>\n",
              "      <td>-0.098901</td>\n",
              "    </tr>\n",
              "  </tbody>\n",
              "</table>\n",
              "</div>\n",
              "    <div class=\"colab-df-buttons\">\n",
              "\n",
              "  <div class=\"colab-df-container\">\n",
              "    <button class=\"colab-df-convert\" onclick=\"convertToInteractive('df-8eb3717f-f166-4786-af7d-3aa8aeb016f0')\"\n",
              "            title=\"Convert this dataframe to an interactive table.\"\n",
              "            style=\"display:none;\">\n",
              "\n",
              "  <svg xmlns=\"http://www.w3.org/2000/svg\" height=\"24px\" viewBox=\"0 -960 960 960\">\n",
              "    <path d=\"M120-120v-720h720v720H120Zm60-500h600v-160H180v160Zm220 220h160v-160H400v160Zm0 220h160v-160H400v160ZM180-400h160v-160H180v160Zm440 0h160v-160H620v160ZM180-180h160v-160H180v160Zm440 0h160v-160H620v160Z\"/>\n",
              "  </svg>\n",
              "    </button>\n",
              "\n",
              "  <style>\n",
              "    .colab-df-container {\n",
              "      display:flex;\n",
              "      gap: 12px;\n",
              "    }\n",
              "\n",
              "    .colab-df-convert {\n",
              "      background-color: #E8F0FE;\n",
              "      border: none;\n",
              "      border-radius: 50%;\n",
              "      cursor: pointer;\n",
              "      display: none;\n",
              "      fill: #1967D2;\n",
              "      height: 32px;\n",
              "      padding: 0 0 0 0;\n",
              "      width: 32px;\n",
              "    }\n",
              "\n",
              "    .colab-df-convert:hover {\n",
              "      background-color: #E2EBFA;\n",
              "      box-shadow: 0px 1px 2px rgba(60, 64, 67, 0.3), 0px 1px 3px 1px rgba(60, 64, 67, 0.15);\n",
              "      fill: #174EA6;\n",
              "    }\n",
              "\n",
              "    .colab-df-buttons div {\n",
              "      margin-bottom: 4px;\n",
              "    }\n",
              "\n",
              "    [theme=dark] .colab-df-convert {\n",
              "      background-color: #3B4455;\n",
              "      fill: #D2E3FC;\n",
              "    }\n",
              "\n",
              "    [theme=dark] .colab-df-convert:hover {\n",
              "      background-color: #434B5C;\n",
              "      box-shadow: 0px 1px 3px 1px rgba(0, 0, 0, 0.15);\n",
              "      filter: drop-shadow(0px 1px 2px rgba(0, 0, 0, 0.3));\n",
              "      fill: #FFFFFF;\n",
              "    }\n",
              "  </style>\n",
              "\n",
              "    <script>\n",
              "      const buttonEl =\n",
              "        document.querySelector('#df-8eb3717f-f166-4786-af7d-3aa8aeb016f0 button.colab-df-convert');\n",
              "      buttonEl.style.display =\n",
              "        google.colab.kernel.accessAllowed ? 'block' : 'none';\n",
              "\n",
              "      async function convertToInteractive(key) {\n",
              "        const element = document.querySelector('#df-8eb3717f-f166-4786-af7d-3aa8aeb016f0');\n",
              "        const dataTable =\n",
              "          await google.colab.kernel.invokeFunction('convertToInteractive',\n",
              "                                                    [key], {});\n",
              "        if (!dataTable) return;\n",
              "\n",
              "        const docLinkHtml = 'Like what you see? Visit the ' +\n",
              "          '<a target=\"_blank\" href=https://colab.research.google.com/notebooks/data_table.ipynb>data table notebook</a>'\n",
              "          + ' to learn more about interactive tables.';\n",
              "        element.innerHTML = '';\n",
              "        dataTable['output_type'] = 'display_data';\n",
              "        await google.colab.output.renderOutput(dataTable, element);\n",
              "        const docLink = document.createElement('div');\n",
              "        docLink.innerHTML = docLinkHtml;\n",
              "        element.appendChild(docLink);\n",
              "      }\n",
              "    </script>\n",
              "  </div>\n",
              "\n",
              "\n",
              "  <div id=\"id_d9c7c9ec-2180-4fd1-bf5c-bb590d6bf42d\">\n",
              "    <style>\n",
              "      .colab-df-generate {\n",
              "        background-color: #E8F0FE;\n",
              "        border: none;\n",
              "        border-radius: 50%;\n",
              "        cursor: pointer;\n",
              "        display: none;\n",
              "        fill: #1967D2;\n",
              "        height: 32px;\n",
              "        padding: 0 0 0 0;\n",
              "        width: 32px;\n",
              "      }\n",
              "\n",
              "      .colab-df-generate:hover {\n",
              "        background-color: #E2EBFA;\n",
              "        box-shadow: 0px 1px 2px rgba(60, 64, 67, 0.3), 0px 1px 3px 1px rgba(60, 64, 67, 0.15);\n",
              "        fill: #174EA6;\n",
              "      }\n",
              "\n",
              "      [theme=dark] .colab-df-generate {\n",
              "        background-color: #3B4455;\n",
              "        fill: #D2E3FC;\n",
              "      }\n",
              "\n",
              "      [theme=dark] .colab-df-generate:hover {\n",
              "        background-color: #434B5C;\n",
              "        box-shadow: 0px 1px 3px 1px rgba(0, 0, 0, 0.15);\n",
              "        filter: drop-shadow(0px 1px 2px rgba(0, 0, 0, 0.3));\n",
              "        fill: #FFFFFF;\n",
              "      }\n",
              "    </style>\n",
              "    <button class=\"colab-df-generate\" onclick=\"generateWithVariable('cb_results')\"\n",
              "            title=\"Generate code using this dataframe.\"\n",
              "            style=\"display:none;\">\n",
              "\n",
              "  <svg xmlns=\"http://www.w3.org/2000/svg\" height=\"24px\"viewBox=\"0 0 24 24\"\n",
              "       width=\"24px\">\n",
              "    <path d=\"M7,19H8.4L18.45,9,17,7.55,7,17.6ZM5,21V16.75L18.45,3.32a2,2,0,0,1,2.83,0l1.4,1.43a1.91,1.91,0,0,1,.58,1.4,1.91,1.91,0,0,1-.58,1.4L9.25,21ZM18.45,9,17,7.55Zm-12,3A5.31,5.31,0,0,0,4.9,8.1,5.31,5.31,0,0,0,1,6.5,5.31,5.31,0,0,0,4.9,4.9,5.31,5.31,0,0,0,6.5,1,5.31,5.31,0,0,0,8.1,4.9,5.31,5.31,0,0,0,12,6.5,5.46,5.46,0,0,0,6.5,12Z\"/>\n",
              "  </svg>\n",
              "    </button>\n",
              "    <script>\n",
              "      (() => {\n",
              "      const buttonEl =\n",
              "        document.querySelector('#id_d9c7c9ec-2180-4fd1-bf5c-bb590d6bf42d button.colab-df-generate');\n",
              "      buttonEl.style.display =\n",
              "        google.colab.kernel.accessAllowed ? 'block' : 'none';\n",
              "\n",
              "      buttonEl.onclick = () => {\n",
              "        google.colab.notebook.generateWithVariable('cb_results');\n",
              "      }\n",
              "      })();\n",
              "    </script>\n",
              "  </div>\n",
              "\n",
              "    </div>\n",
              "  </div>\n"
            ],
            "application/vnd.google.colaboratory.intrinsic+json": {
              "type": "dataframe",
              "variable_name": "cb_results",
              "summary": "{\n  \"name\": \"cb_results\",\n  \"rows\": 1,\n  \"fields\": [\n    {\n      \"column\": 0,\n      \"properties\": {\n        \"dtype\": \"string\",\n        \"num_unique_values\": 1,\n        \"samples\": [\n          \"Cat Boost\"\n        ],\n        \"semantic_type\": \"\",\n        \"description\": \"\"\n      }\n    },\n    {\n      \"column\": 1,\n      \"properties\": {\n        \"dtype\": \"date\",\n        \"min\": 0.0875,\n        \"max\": 0.0875,\n        \"num_unique_values\": 1,\n        \"samples\": [\n          0.0875\n        ],\n        \"semantic_type\": \"\",\n        \"description\": \"\"\n      }\n    },\n    {\n      \"column\": 2,\n      \"properties\": {\n        \"dtype\": \"date\",\n        \"min\": 0.6480201131363922,\n        \"max\": 0.6480201131363922,\n        \"num_unique_values\": 1,\n        \"samples\": [\n          0.6480201131363922\n        ],\n        \"semantic_type\": \"\",\n        \"description\": \"\"\n      }\n    },\n    {\n      \"column\": 3,\n      \"properties\": {\n        \"dtype\": \"date\",\n        \"min\": 0.25,\n        \"max\": 0.25,\n        \"num_unique_values\": 1,\n        \"samples\": [\n          0.25\n        ],\n        \"semantic_type\": \"\",\n        \"description\": \"\"\n      }\n    },\n    {\n      \"column\": 4,\n      \"properties\": {\n        \"dtype\": \"date\",\n        \"min\": -0.09890109890109922,\n        \"max\": -0.09890109890109922,\n        \"num_unique_values\": 1,\n        \"samples\": [\n          -0.09890109890109922\n        ],\n        \"semantic_type\": \"\",\n        \"description\": \"\"\n      }\n    }\n  ]\n}"
            }
          },
          "metadata": {},
          "execution_count": 123
        }
      ]
    },
    {
      "cell_type": "markdown",
      "source": [
        "### **KNN**"
      ],
      "metadata": {
        "id": "rtuujiObjFa0"
      }
    },
    {
      "cell_type": "markdown",
      "source": [
        "#### **Training the model**"
      ],
      "metadata": {
        "id": "3YP1-pq3jFa1"
      }
    },
    {
      "cell_type": "code",
      "source": [
        "df = pd.read_csv('/cyberguarduserbehavior.csv', encoding='latin-1') # Specify the encoding as 'latin-1'\n",
        "df['timestamp'] = pd.to_datetime(df['timestamp'])\n",
        "df['timestamp'] = df['timestamp'].astype(int) / 10**9\n",
        "\n",
        "y = df['label']\n",
        "x = df.drop('label', axis=1)\n",
        "\n",
        "label_encoder = LabelEncoder()\n",
        "for col in x.select_dtypes(include=['object']).columns:\n",
        "    x[col] = label_encoder.fit_transform(x[col])\n",
        "\n",
        "x_train, x_test, y_train, y_test = train_test_split(x, y, test_size=0.2, random_state=100)\n",
        "\n",
        "y_train = label_encoder.fit_transform(y_train)\n",
        "y_test = label_encoder.transform(y_test)\n",
        "\n",
        "K = []\n",
        "training = []\n",
        "test = []\n",
        "scores = {}\n",
        "\n",
        "for k in range(2, 21):\n",
        "    clf = KNeighborsClassifier(n_neighbors=k)\n",
        "    clf.fit(x_train, y_train)\n",
        "\n",
        "    training_score = clf.score(x_train, y_train)\n",
        "    test_score = clf.score(x_test, y_test)\n",
        "    K.append(k)\n",
        "\n",
        "    training.append(training_score)\n",
        "    test.append(test_score)\n",
        "    scores[k] = [training_score, test_score]\n",
        "\n",
        "# Predict on the test set using the trained KNN model\n",
        "y_pred = clf.predict(x_test)  # Use the last trained clf\n",
        "\n",
        "accuracy = accuracy_score(y_test, y_pred)\n",
        "precision = precision_score(y_test, y_pred, average='weighted')\n",
        "recall = recall_score(y_test, y_pred, average='weighted')\n",
        "\n",
        "print('Accuracy:', accuracy)\n",
        "print('Precision:', precision)\n",
        "print('Recall:', recall)"
      ],
      "metadata": {
        "colab": {
          "base_uri": "https://localhost:8080/"
        },
        "outputId": "91333132-ec86-408d-e9ca-0b581e94597f",
        "id": "bC71uZJrjFa1",
        "collapsed": true
      },
      "execution_count": null,
      "outputs": [
        {
          "output_type": "stream",
          "name": "stdout",
          "text": [
            "Accuracy: 0.8\n",
            "Precision: 0.8\n",
            "Recall: 0.8\n"
          ]
        }
      ]
    },
    {
      "cell_type": "code",
      "source": [
        "\n",
        "for keys, values in scores.items():\n",
        "    print(keys, ':', values)"
      ],
      "metadata": {
        "colab": {
          "base_uri": "https://localhost:8080/"
        },
        "id": "8eRx_DtakmR3",
        "outputId": "057039b1-be84-4bdf-fd18-681e319791eb"
      },
      "execution_count": null,
      "outputs": [
        {
          "output_type": "stream",
          "name": "stdout",
          "text": [
            "2 : [0.7895833333333333, 0.6566666666666666]\n",
            "3 : [0.7877083333333333, 0.6358333333333334]\n",
            "4 : [0.7454166666666666, 0.665]\n",
            "5 : [0.745, 0.6441666666666667]\n",
            "6 : [0.7260416666666667, 0.6583333333333333]\n",
            "7 : [0.7275, 0.6483333333333333]\n",
            "8 : [0.7122916666666667, 0.675]\n",
            "9 : [0.7110416666666667, 0.6566666666666666]\n",
            "10 : [0.7075, 0.67]\n",
            "11 : [0.706875, 0.6658333333333334]\n",
            "12 : [0.7025, 0.675]\n",
            "13 : [0.7022916666666666, 0.6666666666666666]\n",
            "14 : [0.70125, 0.6766666666666666]\n",
            "15 : [0.7022916666666666, 0.6758333333333333]\n",
            "16 : [0.7022916666666666, 0.6816666666666666]\n",
            "17 : [0.699375, 0.6775]\n",
            "18 : [0.6995833333333333, 0.6841666666666667]\n",
            "19 : [0.7, 0.68]\n",
            "20 : [0.699375, 0.6833333333333333]\n"
          ]
        }
      ]
    },
    {
      "cell_type": "markdown",
      "source": [
        "#### **Apply the model to make a prediction**"
      ],
      "metadata": {
        "id": "kAM-0AQpjFa1"
      }
    },
    {
      "cell_type": "code",
      "source": [
        "y_clf_train_pred = clf.predict(x_train)\n",
        "y_clf_test_pred = clf.predict(x_test)\n",
        "\n"
      ],
      "metadata": {
        "collapsed": true,
        "id": "dBh0FOlJjFa1"
      },
      "execution_count": null,
      "outputs": []
    },
    {
      "cell_type": "markdown",
      "source": [
        "#### **Evaluate Model Prediction**"
      ],
      "metadata": {
        "id": "IF7kdHqtjFa1"
      }
    },
    {
      "cell_type": "markdown",
      "source": [],
      "metadata": {
        "id": "ocW5Z2BqjFa1"
      }
    },
    {
      "cell_type": "code",
      "source": [
        "from sklearn.metrics import mean_squared_error, r2_score\n",
        "\n",
        "clf_train_mse = mean_squared_error(y_train, y_clf_train_pred)\n",
        "clf_train_r2 = r2_score(y_train, y_clf_train_pred)\n",
        "\n",
        "clf_test_mse = mean_squared_error(y_test, y_clf_test_pred)\n",
        "clf_test_r2 = r2_score(y_test, y_clf_test_pred)"
      ],
      "metadata": {
        "id": "rq1X41_HjFa2"
      },
      "execution_count": null,
      "outputs": []
    },
    {
      "cell_type": "code",
      "source": [
        "clf_results =pd.DataFrame(['K Neighbors Classifier', clf_train_mse, clf_train_r2, clf_test_mse, clf_test_r2]).transpose()\n",
        "clf_results_columns = ['Model', 'Training MSE', 'Training R-squared', 'Test MSE', 'Test R-squared']\n",
        "clf_results\n"
      ],
      "metadata": {
        "colab": {
          "base_uri": "https://localhost:8080/",
          "height": 89
        },
        "outputId": "21ab3357-802b-47c1-bc85-13a7312505bd",
        "id": "21t2MBcIjFa2"
      },
      "execution_count": null,
      "outputs": [
        {
          "output_type": "execute_result",
          "data": {
            "text/plain": [
              "                        0       1         2    3         4\n",
              "0  K Neighbors Classifier  0.3875 -0.558768  0.2  0.120879"
            ],
            "text/html": [
              "\n",
              "  <div id=\"df-3ca0d43f-637e-48c3-82e3-ff1eb784299a\" class=\"colab-df-container\">\n",
              "    <div>\n",
              "<style scoped>\n",
              "    .dataframe tbody tr th:only-of-type {\n",
              "        vertical-align: middle;\n",
              "    }\n",
              "\n",
              "    .dataframe tbody tr th {\n",
              "        vertical-align: top;\n",
              "    }\n",
              "\n",
              "    .dataframe thead th {\n",
              "        text-align: right;\n",
              "    }\n",
              "</style>\n",
              "<table border=\"1\" class=\"dataframe\">\n",
              "  <thead>\n",
              "    <tr style=\"text-align: right;\">\n",
              "      <th></th>\n",
              "      <th>0</th>\n",
              "      <th>1</th>\n",
              "      <th>2</th>\n",
              "      <th>3</th>\n",
              "      <th>4</th>\n",
              "    </tr>\n",
              "  </thead>\n",
              "  <tbody>\n",
              "    <tr>\n",
              "      <th>0</th>\n",
              "      <td>K Neighbors Classifier</td>\n",
              "      <td>0.3875</td>\n",
              "      <td>-0.558768</td>\n",
              "      <td>0.2</td>\n",
              "      <td>0.120879</td>\n",
              "    </tr>\n",
              "  </tbody>\n",
              "</table>\n",
              "</div>\n",
              "    <div class=\"colab-df-buttons\">\n",
              "\n",
              "  <div class=\"colab-df-container\">\n",
              "    <button class=\"colab-df-convert\" onclick=\"convertToInteractive('df-3ca0d43f-637e-48c3-82e3-ff1eb784299a')\"\n",
              "            title=\"Convert this dataframe to an interactive table.\"\n",
              "            style=\"display:none;\">\n",
              "\n",
              "  <svg xmlns=\"http://www.w3.org/2000/svg\" height=\"24px\" viewBox=\"0 -960 960 960\">\n",
              "    <path d=\"M120-120v-720h720v720H120Zm60-500h600v-160H180v160Zm220 220h160v-160H400v160Zm0 220h160v-160H400v160ZM180-400h160v-160H180v160Zm440 0h160v-160H620v160ZM180-180h160v-160H180v160Zm440 0h160v-160H620v160Z\"/>\n",
              "  </svg>\n",
              "    </button>\n",
              "\n",
              "  <style>\n",
              "    .colab-df-container {\n",
              "      display:flex;\n",
              "      gap: 12px;\n",
              "    }\n",
              "\n",
              "    .colab-df-convert {\n",
              "      background-color: #E8F0FE;\n",
              "      border: none;\n",
              "      border-radius: 50%;\n",
              "      cursor: pointer;\n",
              "      display: none;\n",
              "      fill: #1967D2;\n",
              "      height: 32px;\n",
              "      padding: 0 0 0 0;\n",
              "      width: 32px;\n",
              "    }\n",
              "\n",
              "    .colab-df-convert:hover {\n",
              "      background-color: #E2EBFA;\n",
              "      box-shadow: 0px 1px 2px rgba(60, 64, 67, 0.3), 0px 1px 3px 1px rgba(60, 64, 67, 0.15);\n",
              "      fill: #174EA6;\n",
              "    }\n",
              "\n",
              "    .colab-df-buttons div {\n",
              "      margin-bottom: 4px;\n",
              "    }\n",
              "\n",
              "    [theme=dark] .colab-df-convert {\n",
              "      background-color: #3B4455;\n",
              "      fill: #D2E3FC;\n",
              "    }\n",
              "\n",
              "    [theme=dark] .colab-df-convert:hover {\n",
              "      background-color: #434B5C;\n",
              "      box-shadow: 0px 1px 3px 1px rgba(0, 0, 0, 0.15);\n",
              "      filter: drop-shadow(0px 1px 2px rgba(0, 0, 0, 0.3));\n",
              "      fill: #FFFFFF;\n",
              "    }\n",
              "  </style>\n",
              "\n",
              "    <script>\n",
              "      const buttonEl =\n",
              "        document.querySelector('#df-3ca0d43f-637e-48c3-82e3-ff1eb784299a button.colab-df-convert');\n",
              "      buttonEl.style.display =\n",
              "        google.colab.kernel.accessAllowed ? 'block' : 'none';\n",
              "\n",
              "      async function convertToInteractive(key) {\n",
              "        const element = document.querySelector('#df-3ca0d43f-637e-48c3-82e3-ff1eb784299a');\n",
              "        const dataTable =\n",
              "          await google.colab.kernel.invokeFunction('convertToInteractive',\n",
              "                                                    [key], {});\n",
              "        if (!dataTable) return;\n",
              "\n",
              "        const docLinkHtml = 'Like what you see? Visit the ' +\n",
              "          '<a target=\"_blank\" href=https://colab.research.google.com/notebooks/data_table.ipynb>data table notebook</a>'\n",
              "          + ' to learn more about interactive tables.';\n",
              "        element.innerHTML = '';\n",
              "        dataTable['output_type'] = 'display_data';\n",
              "        await google.colab.output.renderOutput(dataTable, element);\n",
              "        const docLink = document.createElement('div');\n",
              "        docLink.innerHTML = docLinkHtml;\n",
              "        element.appendChild(docLink);\n",
              "      }\n",
              "    </script>\n",
              "  </div>\n",
              "\n",
              "\n",
              "  <div id=\"id_6480d8fa-30a4-4ade-b269-25fa11dd9fd7\">\n",
              "    <style>\n",
              "      .colab-df-generate {\n",
              "        background-color: #E8F0FE;\n",
              "        border: none;\n",
              "        border-radius: 50%;\n",
              "        cursor: pointer;\n",
              "        display: none;\n",
              "        fill: #1967D2;\n",
              "        height: 32px;\n",
              "        padding: 0 0 0 0;\n",
              "        width: 32px;\n",
              "      }\n",
              "\n",
              "      .colab-df-generate:hover {\n",
              "        background-color: #E2EBFA;\n",
              "        box-shadow: 0px 1px 2px rgba(60, 64, 67, 0.3), 0px 1px 3px 1px rgba(60, 64, 67, 0.15);\n",
              "        fill: #174EA6;\n",
              "      }\n",
              "\n",
              "      [theme=dark] .colab-df-generate {\n",
              "        background-color: #3B4455;\n",
              "        fill: #D2E3FC;\n",
              "      }\n",
              "\n",
              "      [theme=dark] .colab-df-generate:hover {\n",
              "        background-color: #434B5C;\n",
              "        box-shadow: 0px 1px 3px 1px rgba(0, 0, 0, 0.15);\n",
              "        filter: drop-shadow(0px 1px 2px rgba(0, 0, 0, 0.3));\n",
              "        fill: #FFFFFF;\n",
              "      }\n",
              "    </style>\n",
              "    <button class=\"colab-df-generate\" onclick=\"generateWithVariable('clf_results')\"\n",
              "            title=\"Generate code using this dataframe.\"\n",
              "            style=\"display:none;\">\n",
              "\n",
              "  <svg xmlns=\"http://www.w3.org/2000/svg\" height=\"24px\"viewBox=\"0 0 24 24\"\n",
              "       width=\"24px\">\n",
              "    <path d=\"M7,19H8.4L18.45,9,17,7.55,7,17.6ZM5,21V16.75L18.45,3.32a2,2,0,0,1,2.83,0l1.4,1.43a1.91,1.91,0,0,1,.58,1.4,1.91,1.91,0,0,1-.58,1.4L9.25,21ZM18.45,9,17,7.55Zm-12,3A5.31,5.31,0,0,0,4.9,8.1,5.31,5.31,0,0,0,1,6.5,5.31,5.31,0,0,0,4.9,4.9,5.31,5.31,0,0,0,6.5,1,5.31,5.31,0,0,0,8.1,4.9,5.31,5.31,0,0,0,12,6.5,5.46,5.46,0,0,0,6.5,12Z\"/>\n",
              "  </svg>\n",
              "    </button>\n",
              "    <script>\n",
              "      (() => {\n",
              "      const buttonEl =\n",
              "        document.querySelector('#id_6480d8fa-30a4-4ade-b269-25fa11dd9fd7 button.colab-df-generate');\n",
              "      buttonEl.style.display =\n",
              "        google.colab.kernel.accessAllowed ? 'block' : 'none';\n",
              "\n",
              "      buttonEl.onclick = () => {\n",
              "        google.colab.notebook.generateWithVariable('clf_results');\n",
              "      }\n",
              "      })();\n",
              "    </script>\n",
              "  </div>\n",
              "\n",
              "    </div>\n",
              "  </div>\n"
            ],
            "application/vnd.google.colaboratory.intrinsic+json": {
              "type": "dataframe",
              "variable_name": "clf_results",
              "summary": "{\n  \"name\": \"clf_results\",\n  \"rows\": 1,\n  \"fields\": [\n    {\n      \"column\": 0,\n      \"properties\": {\n        \"dtype\": \"string\",\n        \"num_unique_values\": 1,\n        \"samples\": [\n          \"K Neighbors Classifier\"\n        ],\n        \"semantic_type\": \"\",\n        \"description\": \"\"\n      }\n    },\n    {\n      \"column\": 1,\n      \"properties\": {\n        \"dtype\": \"date\",\n        \"min\": 0.3875,\n        \"max\": 0.3875,\n        \"num_unique_values\": 1,\n        \"samples\": [\n          0.3875\n        ],\n        \"semantic_type\": \"\",\n        \"description\": \"\"\n      }\n    },\n    {\n      \"column\": 2,\n      \"properties\": {\n        \"dtype\": \"date\",\n        \"min\": -0.5587680703959774,\n        \"max\": -0.5587680703959774,\n        \"num_unique_values\": 1,\n        \"samples\": [\n          -0.5587680703959774\n        ],\n        \"semantic_type\": \"\",\n        \"description\": \"\"\n      }\n    },\n    {\n      \"column\": 3,\n      \"properties\": {\n        \"dtype\": \"date\",\n        \"min\": 0.2,\n        \"max\": 0.2,\n        \"num_unique_values\": 1,\n        \"samples\": [\n          0.2\n        ],\n        \"semantic_type\": \"\",\n        \"description\": \"\"\n      }\n    },\n    {\n      \"column\": 4,\n      \"properties\": {\n        \"dtype\": \"date\",\n        \"min\": 0.12087912087912067,\n        \"max\": 0.12087912087912067,\n        \"num_unique_values\": 1,\n        \"samples\": [\n          0.12087912087912067\n        ],\n        \"semantic_type\": \"\",\n        \"description\": \"\"\n      }\n    }\n  ]\n}"
            }
          },
          "metadata": {},
          "execution_count": 129
        }
      ]
    },
    {
      "cell_type": "markdown",
      "source": [
        "## **Data Visualization**"
      ],
      "metadata": {
        "id": "Y0i4eSYM15eW"
      }
    },
    {
      "cell_type": "code",
      "source": [
        "import matplotlib.pyplot as plt\n",
        "import numpy as np\n",
        "\n",
        "# Assuming y_test and y_rf_test_pred are available\n",
        "# Ensure the following line has been executed before this cell:\n",
        "# y_rf_test_pred = rf.predict(x_test)\n",
        "\n",
        "plt.figure(figsize=(5, 5))\n",
        "\n",
        "# Scatter plot for test data\n",
        "plt.scatter(y_test, y_rf_test_pred, alpha=0.3, color='blue', label='Actual vs Predicted')\n",
        "\n",
        "# Fit a regression line\n",
        "z = np.polyfit(y_test, y_rf_test_pred, 1)\n",
        "p = np.poly1d(z)\n",
        "plt.plot(y_test, p(y_test), color='red', label='Best Fit Line')"
      ],
      "metadata": {
        "colab": {
          "base_uri": "https://localhost:8080/",
          "height": 462
        },
        "id": "Vf0O0ieo3s5t",
        "outputId": "5a402469-a39d-4bf1-bbc4-08464f3d773d"
      },
      "execution_count": null,
      "outputs": [
        {
          "output_type": "execute_result",
          "data": {
            "text/plain": [
              "[<matplotlib.lines.Line2D at 0x7b43a19c2ed0>]"
            ]
          },
          "metadata": {},
          "execution_count": 130
        },
        {
          "output_type": "display_data",
          "data": {
            "text/plain": [
              "<Figure size 500x500 with 1 Axes>"
            ],
            "image/png": "[encoded data removed]"
          },
          "metadata": {}
        }
      ]
    },
    {
      "cell_type": "code",
      "source": [
        "import matplotlib.pyplot as plt\n",
        "import numpy as np\n",
        "\n",
        "\n",
        "plt.figure(figsize=(5, 5))\n",
        "plt.scatter(y_train, y_dt_train_pred, alpha=0.3, color='blue')\n",
        "\n",
        "z = np.polyfit(y_train, y_dt_train_pred, 1)\n",
        "p = np.poly1d(z)\n",
        "\n",
        "plt.plot(y_train, p(y_train), color='red')\n",
        "\n"
      ],
      "metadata": {
        "colab": {
          "base_uri": "https://localhost:8080/",
          "height": 462
        },
        "id": "bHPWSv6EoHRf",
        "outputId": "e652e7bf-4bfe-42b9-c533-bd241efab539"
      },
      "execution_count": null,
      "outputs": [
        {
          "output_type": "execute_result",
          "data": {
            "text/plain": [
              "[<matplotlib.lines.Line2D at 0x7b43a09d8a50>]"
            ]
          },
          "metadata": {},
          "execution_count": 131
        },
        {
          "output_type": "display_data",
          "data": {
            "text/plain": [
              "<Figure size 500x500 with 1 Axes>"
            ],
            "image/png": "[encoded data removed]"
          },
          "metadata": {}
        }
      ]
    },
    {
      "cell_type": "code",
      "source": [
        "import matplotlib.pyplot as plt\n",
        "import numpy as np\n",
        "\n",
        "\n",
        "plt.figure(figsize=(5, 5))\n",
        "plt.scatter(x=y_train, y=y_cb_train_pred, alpha=0.3, color='blue')\n",
        "\n",
        "z = np.polyfit(y_train, y_cb_train_pred, 1)\n",
        "p = np.poly1d(z)\n",
        "\n",
        "plt.plot(y_train, p(y_train), color='red')"
      ],
      "metadata": {
        "colab": {
          "base_uri": "https://localhost:8080/",
          "height": 462
        },
        "id": "OTMXllre89P3",
        "outputId": "6b520431-78b7-4aad-bf74-3b7bc707fe4a"
      },
      "execution_count": null,
      "outputs": [
        {
          "output_type": "execute_result",
          "data": {
            "text/plain": [
              "[<matplotlib.lines.Line2D at 0x7b43a08852d0>]"
            ]
          },
          "metadata": {},
          "execution_count": 132
        },
        {
          "output_type": "display_data",
          "data": {
            "text/plain": [
              "<Figure size 500x500 with 1 Axes>"
            ],
            "image/png": "[encoded data removed]"
          },
          "metadata": {}
        }
      ]
    },
    {
      "cell_type": "code",
      "source": [],
      "metadata": {
        "id": "MGkCnDMD-DKF"
      },
      "execution_count": null,
      "outputs": []
    },
    {
      "cell_type": "code",
      "source": [
        "import matplotlib.pyplot as plt\n",
        "import numpy as np\n",
        "\n",
        "\n",
        "plt.figure(figsize=(5, 5))\n",
        "plt.scatter(x=y_train, y=y_clf_train_pred, alpha=0.3, color='blue')\n",
        "\n",
        "z = np.polyfit(y_train, y_clf_train_pred, 1)\n",
        "p = np.poly1d(z)\n",
        "\n",
        "plt.plot(y_train, p(y_train), color='red')"
      ],
      "metadata": {
        "colab": {
          "base_uri": "https://localhost:8080/",
          "height": 462
        },
        "outputId": "add509e2-559b-4d57-eff8-4a4c8d7082b8",
        "id": "p3v30SGj-DiT"
      },
      "execution_count": null,
      "outputs": [
        {
          "output_type": "execute_result",
          "data": {
            "text/plain": [
              "[<matplotlib.lines.Line2D at 0x7b43a08e1950>]"
            ]
          },
          "metadata": {},
          "execution_count": 133
        },
        {
          "output_type": "display_data",
          "data": {
            "text/plain": [
              "<Figure size 500x500 with 1 Axes>"
            ],
            "image/png": "[encoded data removed]"
          },
          "metadata": {}
        }
      ]
    }
  ]
}